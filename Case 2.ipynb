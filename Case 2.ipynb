{
 "cells": [
  {
   "cell_type": "code",
   "execution_count": 120,
   "id": "f302bbb6",
   "metadata": {},
   "outputs": [],
   "source": [
    "# Importing libraries\n",
    "import pandas as pd\n",
    "from pyspark.sql import SparkSession\n",
    "from pyspark.sql import functions as F\n",
    "from pyspark.sql.window import Window\n",
    "from pyspark.sql.types import StringType, TimestampType, FloatType"
   ]
  },
  {
   "cell_type": "code",
   "execution_count": 59,
   "id": "a56c2fd8",
   "metadata": {},
   "outputs": [],
   "source": [
    "# Initializing Spark Session\n",
    "spark = SparkSession.builder.appName('case_2').getOrCreate()"
   ]
  },
  {
   "cell_type": "code",
   "execution_count": 92,
   "id": "112c7322",
   "metadata": {},
   "outputs": [],
   "source": [
    "# Loading the data from CSV files\n",
    "dim_users = spark.read.option('header','true').csv('dim_users.csv')\n",
    "fact_operations = spark.read.option('header','true').csv('fact_operations.csv')"
   ]
  },
  {
   "cell_type": "code",
   "execution_count": 93,
   "id": "87adfdcf",
   "metadata": {},
   "outputs": [
    {
     "name": "stdout",
     "output_type": "stream",
     "text": [
      "+-----------+-------------------+--------+-------------------+---------------------+-------------------+\n",
      "|id_dim_user|         created_at| country| first_operation_at|first_operation_value|         updated_at|\n",
      "+-----------+-------------------+--------+-------------------+---------------------+-------------------+\n",
      "|      19101|2020-01-12 17:34:12|Portugal|2020-01-13 11:11:12|             10250.50|2020-01-03 11:11:12|\n",
      "|      22111|2020-02-09 22:11:11|  Brazil|2020-03-12 10:01:04|              5000.23|2020-04-12 12:12:04|\n",
      "|      33345|2021-01-12 08:01:11|  Brazil|2021-01-29 12:12:10|              7000.54|2021-01-29 12:12:10|\n",
      "|       1324|2021-03-12 12:33:33|  Brazil|2021-04-29 10:03:12|              4998.10|2021-04-29 10:03:12|\n",
      "+-----------+-------------------+--------+-------------------+---------------------+-------------------+\n",
      "\n"
     ]
    }
   ],
   "source": [
    "# Previewing the datasets\n",
    "dim_users.show(5)"
   ]
  },
  {
   "cell_type": "code",
   "execution_count": 94,
   "id": "f7303202",
   "metadata": {},
   "outputs": [
    {
     "name": "stdout",
     "output_type": "stream",
     "text": [
      "+-------+-----------+-------------------+-------+--------------------+--------------+---------------+\n",
      "|id_fact|id_dim_user|       processed_at|  value|              nature|country_region|country_destiny|\n",
      "+-------+-----------+-------------------+-------+--------------------+--------------+---------------+\n",
      "| 122331|      19101|2020-01-13 11:11:12|10250.5|recebimento de sa...|      Portugal|         Brazil|\n",
      "| 125841|      22111|2020-03-12 10:01:04|5000.23| envio para familiar|        Brazil|        England|\n",
      "| 213452|      33345|2021-01-29 12:12:10|7000.54|recebimento de sa...|        France|         Brazil|\n",
      "| 100037|       1324|2021-04-29 10:03:12|4998.10|  compra de produtos|        Brazil|          China|\n",
      "| 412444|      19101|2019-02-01 15:29:05|3951.78| pagamento de boleto|         China|         Brazil|\n",
      "+-------+-----------+-------------------+-------+--------------------+--------------+---------------+\n",
      "only showing top 5 rows\n",
      "\n"
     ]
    }
   ],
   "source": [
    "fact_operations.show(5)"
   ]
  },
  {
   "cell_type": "markdown",
   "id": "25f3f345",
   "metadata": {},
   "source": [
    "## Data Wrangling"
   ]
  },
  {
   "cell_type": "markdown",
   "id": "281ca38d",
   "metadata": {},
   "source": [
    "### Casting"
   ]
  },
  {
   "cell_type": "code",
   "execution_count": 95,
   "id": "d7ef4bb8",
   "metadata": {},
   "outputs": [],
   "source": [
    "# Casting Timestamp and Float columns\n",
    "dim_users_casted = dim_users \\\n",
    "    .withColumn('created_at', F.col('created_at').cast(TimestampType())) \\\n",
    "    .withColumn('first_operation_at', F.col('first_operation_at').cast(TimestampType())) \\\n",
    "    .withColumn('first_operation_value', F.col('first_operation_value').cast(FloatType())) \\\n",
    "    .withColumn('updated_at', F.col('updated_at').cast(TimestampType())) "
   ]
  },
  {
   "cell_type": "code",
   "execution_count": 96,
   "id": "8233c8ab",
   "metadata": {},
   "outputs": [],
   "source": [
    "fact_operations_casted = fact_operations \\\n",
    "    .withColumn('processed_at', F.col('processed_at').cast(TimestampType())) \\\n",
    "    .withColumn('value', F.col('value').cast(FloatType()))"
   ]
  },
  {
   "cell_type": "markdown",
   "id": "375aa449",
   "metadata": {},
   "source": [
    "## Primeira Tarefa"
   ]
  },
  {
   "cell_type": "markdown",
   "id": "a181d018",
   "metadata": {},
   "source": [
    "### 1 - Primeira e última operação de cada usuário"
   ]
  },
  {
   "cell_type": "code",
   "execution_count": 99,
   "id": "f3c787db",
   "metadata": {},
   "outputs": [
    {
     "name": "stdout",
     "output_type": "stream",
     "text": [
      "+-----------+-------------------+-------------------+\n",
      "|id_dim_user|    first_operation|     last_operation|\n",
      "+-----------+-------------------+-------------------+\n",
      "|      33345|2020-01-03 23:13:10|2021-01-29 12:12:10|\n",
      "|       1324|2021-01-04 12:24:02|2021-04-29 10:03:12|\n",
      "+-----------+-------------------+-------------------+\n",
      "\n"
     ]
    }
   ],
   "source": [
    "fact_operations \\\n",
    "    .groupBy('id_dim_user') \\\n",
    "    .agg(\n",
    "        # Calculating the user's FIRST operation\n",
    "        F.min('processed_at').alias('first_operation'),\n",
    "        # Calculating the user's LAST operation\n",
    "        F.max('processed_at').alias('last_operation')) \\\n",
    "    # Selecting only users whose first operation was made before January 01, 2020\n",
    "    .filter(F.col('first_operation') >= '2020-01-01') \\\n",
    "    .show()"
   ]
  },
  {
   "cell_type": "markdown",
   "id": "2d215167",
   "metadata": {},
   "source": [
    "### 2 - Quantidade de operações de cada usuário no período total"
   ]
  },
  {
   "cell_type": "code",
   "execution_count": 117,
   "id": "b3a8f6dc",
   "metadata": {},
   "outputs": [
    {
     "name": "stdout",
     "output_type": "stream",
     "text": [
      "+-----------+--------------+\n",
      "|id_dim_user|count(id_fact)|\n",
      "+-----------+--------------+\n",
      "|      33345|             3|\n",
      "|      22111|             4|\n",
      "|      19101|             4|\n",
      "|       1324|             2|\n",
      "+-----------+--------------+\n",
      "\n"
     ]
    }
   ],
   "source": [
    "fact_operations \\\n",
    "    .groupBy('id_dim_user') \\\n",
    "    .agg(\n",
    "        # Counting distinct operations by user \n",
    "        F.countDistinct('id_fact')) \\\n",
    "    .show()"
   ]
  },
  {
   "cell_type": "markdown",
   "id": "f3a17887",
   "metadata": {},
   "source": [
    "### 3 - Valores mínimos, médios e máximos operados para cada usuário"
   ]
  },
  {
   "cell_type": "code",
   "execution_count": 119,
   "id": "5b6f9318",
   "metadata": {},
   "outputs": [
    {
     "name": "stdout",
     "output_type": "stream",
     "text": [
      "+-----------+-------------+-------------+----------+\n",
      "|id_dim_user|minimum_value|maximum_value|mean_value|\n",
      "+-----------+-------------+-------------+----------+\n",
      "|      33345|       422.45|      7000.54|   4807.84|\n",
      "|      22111|      4421.09|      5839.19|   5170.17|\n",
      "|      19101|      10250.5|      3951.78|   6725.82|\n",
      "|       1324|       458.10|      4998.10|    2728.1|\n",
      "+-----------+-------------+-------------+----------+\n",
      "\n"
     ]
    }
   ],
   "source": [
    "fact_operations \\\n",
    "    .groupBy('id_dim_user') \\\n",
    "    .agg(\n",
    "        # Calculating the minimum value\n",
    "        F.min('value').alias('minimum_value'),\n",
    "        # Calculating the maximum value\n",
    "        F.max('value').alias('maximum_value'),\n",
    "        # Calculating the mean value and round the decimals to two places\n",
    "        F.round(F.mean('value'),2).alias('mean_value')) \\\n",
    "    .show()"
   ]
  },
  {
   "cell_type": "markdown",
   "id": "ba673f10",
   "metadata": {},
   "source": [
    "## Segunda Tarefa"
   ]
  },
  {
   "cell_type": "code",
   "execution_count": 150,
   "id": "a963cf3b",
   "metadata": {},
   "outputs": [],
   "source": [
    "# Creating the Window\n",
    "month_window = Window \\\n",
    "    .orderBy(F.col('processed_month')) \\\n",
    "    .rowsBetween(-3,-1)"
   ]
  },
  {
   "cell_type": "code",
   "execution_count": 157,
   "id": "7ff5864f",
   "metadata": {},
   "outputs": [],
   "source": [
    "# Creating the new table required\n",
    "montlhy_operations = fact_operations \\\n",
    "    .groupBy( \n",
    "        # Truncating 'processed_at' to month\n",
    "        F.date_trunc(\n",
    "            'month',\n",
    "            F.col('processed_at'))\n",
    "        .alias('processed_month')) \\\n",
    "    .agg(\n",
    "        # Counting distinct operations by month\n",
    "        F.countDistinct('id_fact')\n",
    "        .alias('operations')) \\\n",
    "    .withColumn(\n",
    "        # Creating moving average column and making some adjustments\n",
    "        'avg_operations_last_3m',\n",
    "        F.round(\n",
    "            F.coalesce(\n",
    "                F.mean(F.col('operations')).over(month_window),\n",
    "                F.lit(0.0)),\n",
    "            2))"
   ]
  },
  {
   "cell_type": "code",
   "execution_count": 158,
   "id": "66d766df",
   "metadata": {},
   "outputs": [
    {
     "name": "stdout",
     "output_type": "stream",
     "text": [
      "+-------------------+----------+----------------------+\n",
      "|    processed_month|operations|avg_operations_last_3m|\n",
      "+-------------------+----------+----------------------+\n",
      "|2019-02-01 00:00:00|         2|                   0.0|\n",
      "|2019-10-01 00:00:00|         1|                   2.0|\n",
      "|2020-01-01 00:00:00|         2|                   1.5|\n",
      "|2020-02-01 00:00:00|         1|                  1.67|\n",
      "|2020-03-01 00:00:00|         1|                  1.33|\n",
      "|2020-05-01 00:00:00|         1|                  1.33|\n",
      "|2021-01-01 00:00:00|         3|                   1.0|\n",
      "|2021-04-01 00:00:00|         2|                  1.67|\n",
      "+-------------------+----------+----------------------+\n",
      "\n"
     ]
    }
   ],
   "source": [
    "montlhy_operations.show()"
   ]
  },
  {
   "cell_type": "code",
   "execution_count": null,
   "id": "476eb95c",
   "metadata": {},
   "outputs": [],
   "source": []
  }
 ],
 "metadata": {
  "kernelspec": {
   "display_name": "Python 3",
   "language": "python",
   "name": "python3"
  },
  "language_info": {
   "codemirror_mode": {
    "name": "ipython",
    "version": 3
   },
   "file_extension": ".py",
   "mimetype": "text/x-python",
   "name": "python",
   "nbconvert_exporter": "python",
   "pygments_lexer": "ipython3",
   "version": "3.9.2"
  }
 },
 "nbformat": 4,
 "nbformat_minor": 5
}
